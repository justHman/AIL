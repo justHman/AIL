{
 "cells": [
  {
   "cell_type": "code",
   "execution_count": 1,
   "id": "144ef4a1",
   "metadata": {},
   "outputs": [
    {
     "name": "stdout",
     "output_type": "stream",
     "text": [
      "Recommender is ready.\n"
     ]
    }
   ],
   "source": [
    "import pandas as pd\n",
    "from src.recommender import Recommender\n",
    "from src.models import iiCB, Ridge_iiCB\n",
    "from src.utils import get_items_rated_by_user\n",
    "\n",
    "df = pd.read_csv('data\\captone_data.csv')\n",
    "recommender_engine = Recommender(df)\n",
    "model = Ridge_iiCB(df)\n"
   ]
  },
  {
   "cell_type": "code",
   "execution_count": 2,
   "id": "60ec40e4",
   "metadata": {},
   "outputs": [
    {
     "name": "stdout",
     "output_type": "stream",
     "text": [
      "================================================== Train xong! ==================================================\n"
     ]
    }
   ],
   "source": [
    "model.train(recommender_engine.item_vectors)"
   ]
  },
  {
   "cell_type": "code",
   "execution_count": 3,
   "id": "1674a8bf",
   "metadata": {},
   "outputs": [
    {
     "data": {
      "text/plain": [
       "np.float64(3.0)"
      ]
     },
     "execution_count": 3,
     "metadata": {},
     "output_type": "execute_result"
    }
   ],
   "source": [
    "model.predict('DB0115EN', 1889878)\n",
    "# print(rid.predict('LB0101ENv1', 2))\n",
    "# print(rid.reccomend('LB0101ENv1', 10, return_rating=True))"
   ]
  },
  {
   "cell_type": "code",
   "execution_count": 19,
   "id": "60df5506",
   "metadata": {},
   "outputs": [
    {
     "data": {
      "text/plain": [
       "[('CL0101EN', 3.0),\n",
       " ('ML0120ENv3', 3.0),\n",
       " ('ST0101EN', 3.0),\n",
       " ('DS0105EN', 3.0),\n",
       " ('BD0141EN', 3.0),\n",
       " ('CO0201EN', 3.0),\n",
       " ('BD0123EN', 3.0),\n",
       " ('TA0105EN', 3.0),\n",
       " ('BD0111EN', 3.0),\n",
       " ('ML0122ENv1', 3.0)]"
      ]
     },
     "execution_count": 19,
     "metadata": {},
     "output_type": "execute_result"
    }
   ],
   "source": [
    "model.reccomend(1889878, 10, return_rating=True)"
   ]
  },
  {
   "cell_type": "code",
   "execution_count": 15,
   "id": "449f2c84",
   "metadata": {},
   "outputs": [
    {
     "name": "stdout",
     "output_type": "stream",
     "text": [
      "{'RP0105EN', 'ML0115EN', 'ML0151EN', 'CC0101EN', 'BC0202EN', 'BC0101EN', 'HCC104EN', 'DV0101EN', 'BC0201EN', 'AI0111EN', 'BD0101EN', 'CC0250EN', 'BD0211EN', 'PY0101EN', 'ML0120ENv2', 'DV0151EN', 'DS0103EN', 'CC0103EN', 'CO0101EN', 'HCC105EN', 'DA0101EN', 'DS0101EN', 'ML0101ENv3', 'CC0201EN', 'DS0301EN', 'DB0101EN', 'CB0103EN', 'DE0205EN'}\n",
      "['CC0101EN', 'CL0101EN', 'ML0120ENv3', 'BD0211EN', 'DS0101EN', 'ST0101EN', 'DS0301EN', 'DS0105EN', 'BD0141EN', 'CO0201EN', 'CB0103EN', 'DV0101EN', 'DS0103EN', 'BD0123EN', 'BC0101EN', 'TA0105EN', 'ML0151EN', 'BD0101EN', 'BD0111EN', 'BC0201EN', 'ML0122ENv1', 'BD0131EN', 'BD0121EN', 'PY0101EN', 'BD0145EN', 'ML0101EN', 'CO0301EN', 'ML0101ENv3', 'DB0151EN', 'CO0101EN', 'RP0101EN', 'SC0101EN', 'PA0101EN', 'LB0101ENv1', 'ML0103EN', 'CC0150EN', 'DS0110EN', 'DA0101EN', 'ML0122EN', 'ML0115EN', 'ML0111EN', 'ML0109EN', 'BD0223EN', 'BC0202EN', 'CC0103EN', 'COM001EN', 'DB0101EN', 'CNSC02EN', 'DV0151EN', 'RP0105EN', 'LB0109ENv1', 'SC0105EN', 'RP0103', 'WA0101EN', 'RAVSCTEST1', 'RP0151EN', 'CO0401EN', 'SC0103EN', 'LB0111EN', 'DS0132EN', 'CB0105ENv1', 'CC0201EN', 'ML0120ENv2', 'BD0143EN', 'LB0105ENv1', 'ML0201EN', 'BD0115EN', 'BD0221EN', 'ML0120EN', 'BD0137EN', 'DAI101EN', 'RP0103EN', 'BD0212EN', 'BD0135EN', 'CC0250EN', 'TA0105', 'DS0321EN', 'BD0133EN', 'LB0107ENv1', 'ML0122ENv3', 'SECM03EN', 'TMP0105EN', 'BD0151EN', 'PA0109EN', 'DJ0101EN', 'CP0101EN', 'CB0101EN', 'EE0101EN', 'CC0210EN', 'AI0111EN', 'DW0101EN', 'HCC105EN', 'LB0103ENv1', 'SW0101EN', 'DS0201EN', 'HCC104EN', 'SW0201EN', 'TA0106EN', 'DE0205EN', 'IT0101EN', 'OS0101EN', 'BD0153EN', 'WA0103EN', 'DP0101EN', 'TMP0106', 'CB0201EN', 'GPXX0T0FEN', 'DB0111EN', 'PHPM002EN', 'TMP107', 'DA0201EN', 'ST0201EN', 'DX0106EN', 'CC0271EN', 'DX0107EN', 'BENTEST4', 'PA0107EN', 'PA0103EN', 'DA0151EN', 'ST0301EN', 'TMP0101EN', 'DB0113EN', 'DX0108EN', 'DS0107', 'DB0115EN', 'GPXX0QR3EN']\n",
      "['CL0101EN', 'ML0120ENv3', 'ST0101EN', 'DS0105EN', 'BD0141EN', 'CO0201EN', 'BD0123EN', 'TA0105EN', 'BD0111EN', 'ML0122ENv1', 'BD0131EN', 'BD0121EN', 'BD0145EN', 'ML0101EN', 'CO0301EN', 'DB0151EN', 'RP0101EN', 'SC0101EN', 'PA0101EN', 'LB0101ENv1', 'ML0103EN', 'CC0150EN', 'DS0110EN', 'ML0122EN', 'ML0111EN', 'ML0109EN', 'BD0223EN', 'COM001EN', 'CNSC02EN', 'LB0109ENv1', 'SC0105EN', 'RP0103', 'WA0101EN', 'RAVSCTEST1', 'RP0151EN', 'CO0401EN', 'SC0103EN', 'LB0111EN', 'DS0132EN', 'CB0105ENv1', 'BD0143EN', 'LB0105ENv1', 'ML0201EN', 'BD0115EN', 'BD0221EN', 'ML0120EN', 'BD0137EN', 'DAI101EN', 'RP0103EN', 'BD0212EN', 'BD0135EN', 'TA0105', 'DS0321EN', 'BD0133EN', 'LB0107ENv1', 'ML0122ENv3', 'SECM03EN', 'TMP0105EN', 'BD0151EN', 'PA0109EN', 'DJ0101EN', 'CP0101EN', 'CB0101EN', 'EE0101EN', 'CC0210EN', 'DW0101EN', 'LB0103ENv1', 'SW0101EN', 'DS0201EN', 'SW0201EN', 'TA0106EN', 'IT0101EN', 'OS0101EN', 'BD0153EN', 'WA0103EN', 'DP0101EN', 'TMP0106', 'CB0201EN', 'GPXX0T0FEN', 'DB0111EN', 'PHPM002EN', 'TMP107', 'DA0201EN', 'ST0201EN', 'DX0106EN', 'CC0271EN', 'DX0107EN', 'BENTEST4', 'PA0107EN', 'PA0103EN', 'DA0151EN', 'ST0301EN', 'TMP0101EN', 'DB0113EN', 'DX0108EN', 'DS0107', 'DB0115EN', 'GPXX0QR3EN']\n"
     ]
    },
    {
     "data": {
      "text/plain": [
       "[('BD0111EN', 3.0, 10599),\n",
       " ('DS0105EN', 3.0, 7199),\n",
       " ('RP0101EN', 3.0, 5237),\n",
       " ('ST0101EN', 3.0, 5015),\n",
       " ('BD0115EN', 3.0, 3670),\n",
       " ('BD0141EN', 3.0, 3044),\n",
       " ('CL0101EN', 3.0, 3000),\n",
       " ('CO0201EN', 3.0, 2896),\n",
       " ('BD0131EN', 3.0, 2873),\n",
       " ('SC0101EN', 3.0, 2721),\n",
       " ('PA0101EN', 3.0, 2601),\n",
       " ('ML0103EN', 3.0, 2340),\n",
       " ('CO0301EN', 3.0, 2247),\n",
       " ('WA0101EN', 3.0, 2247),\n",
       " ('BD0212EN', 3.0, 1992),\n",
       " ('CNSC02EN', 3.0, 1838),\n",
       " ('ML0101EN', 3.0, 1750),\n",
       " ('BD0121EN', 3.0, 1608),\n",
       " ('ML0122ENv1', 3.0, 1602),\n",
       " ('DB0151EN', 3.0, 1559),\n",
       " ('CO0401EN', 3.0, 1385),\n",
       " ('BD0123EN', 3.0, 1347),\n",
       " ('SC0103EN', 3.0, 1304),\n",
       " ('DW0101EN', 3.0, 1251),\n",
       " ('SC0105EN', 3.0, 1194),\n",
       " ('BD0143EN', 3.0, 1145),\n",
       " ('DS0321EN', 3.0, 1140),\n",
       " ('BD0221EN', 3.0, 1136),\n",
       " ('LB0101ENv1', 3.0, 1135),\n",
       " ('TA0105EN', 3.0, 1067),\n",
       " ('ML0120EN', 3.0, 1044),\n",
       " ('ML0109EN', 3.0, 1030),\n",
       " ('BD0145EN', 3.0, 1015),\n",
       " ('CB0105ENv1', 3.0, 941),\n",
       " ('TA0105', 3.0, 912),\n",
       " ('BD0223EN', 3.0, 818),\n",
       " ('BD0133EN', 3.0, 752),\n",
       " ('LB0103ENv1', 3.0, 660),\n",
       " ('BD0135EN', 3.0, 641),\n",
       " ('LB0105ENv1', 3.0, 640),\n",
       " ('CP0101EN', 3.0, 628),\n",
       " ('RP0103EN', 3.0, 586),\n",
       " ('LB0107ENv1', 3.0, 579),\n",
       " ('CC0150EN', 3.0, 560),\n",
       " ('BD0137EN', 3.0, 558),\n",
       " ('DAI101EN', 3.0, 531),\n",
       " ('ML0201EN', 3.0, 529),\n",
       " ('DS0110EN', 3.0, 516),\n",
       " ('ML0111EN', 3.0, 463),\n",
       " ('IT0101EN', 3.0, 458),\n",
       " ('EE0101EN', 3.0, 424),\n",
       " ('LB0109ENv1', 3.0, 422),\n",
       " ('DS0201EN', 3.0, 406),\n",
       " ('LB0111EN', 3.0, 391),\n",
       " ('BD0153EN', 3.0, 386),\n",
       " ('DJ0101EN', 3.0, 363),\n",
       " ('CC0210EN', 3.0, 351),\n",
       " ('TMP0105EN', 3.0, 347),\n",
       " ('RP0103', 3.0, 339),\n",
       " ('SW0101EN', 3.0, 322),\n",
       " ('SW0201EN', 3.0, 312),\n",
       " ('ML0120ENv3', 3.0, 305),\n",
       " ('DS0132EN', 3.0, 303),\n",
       " ('TA0106EN', 3.0, 294),\n",
       " ('ML0122EN', 3.0, 270),\n",
       " ('RP0151EN', 3.0, 252),\n",
       " ('CB0101EN', 3.0, 223),\n",
       " ('SECM03EN', 3.0, 222),\n",
       " ('COM001EN', 3.0, 209),\n",
       " ('DP0101EN', 3.0, 205),\n",
       " ('ML0122ENv3', 3.0, 173),\n",
       " ('PHPM002EN', 3.0, 164),\n",
       " ('BD0151EN', 3.0, 141),\n",
       " ('OS0101EN', 3.0, 60),\n",
       " ('CC0271EN', 3.0, 57),\n",
       " ('WA0103EN', 3.0, 56),\n",
       " ('TMP0106', 3.0, 35),\n",
       " ('GPXX0T0FEN', 3.0, 20),\n",
       " ('PA0107EN', 3.0, 18),\n",
       " ('CB0201EN', 3.0, 16),\n",
       " ('RAVSCTEST1', 3.0, 14),\n",
       " ('PA0103EN', 3.0, 8),\n",
       " ('PA0109EN', 3.0, 6),\n",
       " ('DB0111EN', 3.0, 6),\n",
       " ('DA0201EN', 3.0, 6),\n",
       " ('DA0151EN', 3.0, 4),\n",
       " ('DB0113EN', 3.0, 4),\n",
       " ('DB0115EN', 3.0, 4),\n",
       " ('TMP107', 3.0, 2),\n",
       " ('DX0107EN', 3.0, 2),\n",
       " ('BENTEST4', 3.0, 2),\n",
       " ('TMP0101EN', 3.0, 2),\n",
       " ('DS0107', 3.0, 2),\n",
       " ('ST0201EN', 3.0, 1),\n",
       " ('DX0106EN', 3.0, 1),\n",
       " ('ST0301EN', 3.0, 1),\n",
       " ('DX0108EN', 3.0, 1),\n",
       " ('GPXX0QR3EN', 3.0, 1)]"
      ]
     },
     "execution_count": 15,
     "metadata": {},
     "output_type": "execute_result"
    }
   ],
   "source": [
    "items = df['item'].unique()\n",
    "user = 1889878\n",
    "\n",
    "rated_items = set(df[df['user'] == user]['item'])\n",
    "all_items = list(items)\n",
    "unrated_items = [item for item in all_items if item not in rated_items]\n",
    "\n",
    "print(rated_items)\n",
    "print(all_items)\n",
    "print(unrated_items)\n",
    "\n",
    "item_scores = [(item, float(model.predict(item, user)), len(df[df['item'] == item])) for item in unrated_items]\n",
    "item_scores.sort(key=lambda x: (x[1], x[2]), reverse=True)\n",
    "item_scores\n"
   ]
  },
  {
   "cell_type": "code",
   "execution_count": null,
   "id": "33b947c5",
   "metadata": {},
   "outputs": [
    {
     "data": {
      "text/plain": [
       "[('BD0111EN', 3.0, 10599),\n",
       " ('DS0105EN', 3.0, 7199),\n",
       " ('RP0101EN', 3.0, 5237),\n",
       " ('ST0101EN', 3.0, 5015),\n",
       " ('BD0115EN', 3.0, 3670),\n",
       " ('BD0141EN', 3.0, 3044),\n",
       " ('CL0101EN', 3.0, 3000),\n",
       " ('CO0201EN', 3.0, 2896),\n",
       " ('BD0131EN', 3.0, 2873),\n",
       " ('SC0101EN', 3.0, 2721),\n",
       " ('PA0101EN', 3.0, 2601),\n",
       " ('ML0103EN', 3.0, 2340),\n",
       " ('CO0301EN', 3.0, 2247),\n",
       " ('WA0101EN', 3.0, 2247),\n",
       " ('BD0212EN', 3.0, 1992),\n",
       " ('CNSC02EN', 3.0, 1838),\n",
       " ('ML0101EN', 3.0, 1750),\n",
       " ('BD0121EN', 3.0, 1608),\n",
       " ('ML0122ENv1', 3.0, 1602),\n",
       " ('DB0151EN', 3.0, 1559),\n",
       " ('CO0401EN', 3.0, 1385),\n",
       " ('BD0123EN', 3.0, 1347),\n",
       " ('SC0103EN', 3.0, 1304),\n",
       " ('DW0101EN', 3.0, 1251),\n",
       " ('SC0105EN', 3.0, 1194),\n",
       " ('BD0143EN', 3.0, 1145),\n",
       " ('DS0321EN', 3.0, 1140),\n",
       " ('BD0221EN', 3.0, 1136),\n",
       " ('LB0101ENv1', 3.0, 1135),\n",
       " ('TA0105EN', 3.0, 1067),\n",
       " ('ML0120EN', 3.0, 1044),\n",
       " ('ML0109EN', 3.0, 1030),\n",
       " ('BD0145EN', 3.0, 1015),\n",
       " ('CB0105ENv1', 3.0, 941),\n",
       " ('TA0105', 3.0, 912),\n",
       " ('BD0223EN', 3.0, 818),\n",
       " ('BD0133EN', 3.0, 752),\n",
       " ('LB0103ENv1', 3.0, 660),\n",
       " ('BD0135EN', 3.0, 641),\n",
       " ('LB0105ENv1', 3.0, 640),\n",
       " ('CP0101EN', 3.0, 628),\n",
       " ('RP0103EN', 3.0, 586),\n",
       " ('LB0107ENv1', 3.0, 579),\n",
       " ('CC0150EN', 3.0, 560),\n",
       " ('BD0137EN', 3.0, 558),\n",
       " ('DAI101EN', 3.0, 531),\n",
       " ('ML0201EN', 3.0, 529),\n",
       " ('DS0110EN', 3.0, 516),\n",
       " ('ML0111EN', 3.0, 463),\n",
       " ('IT0101EN', 3.0, 458),\n",
       " ('EE0101EN', 3.0, 424),\n",
       " ('LB0109ENv1', 3.0, 422),\n",
       " ('DS0201EN', 3.0, 406),\n",
       " ('LB0111EN', 3.0, 391),\n",
       " ('BD0153EN', 3.0, 386),\n",
       " ('DJ0101EN', 3.0, 363),\n",
       " ('CC0210EN', 3.0, 351),\n",
       " ('TMP0105EN', 3.0, 347),\n",
       " ('RP0103', 3.0, 339),\n",
       " ('SW0101EN', 3.0, 322),\n",
       " ('SW0201EN', 3.0, 312),\n",
       " ('ML0120ENv3', 3.0, 305),\n",
       " ('DS0132EN', 3.0, 303),\n",
       " ('TA0106EN', 3.0, 294),\n",
       " ('ML0122EN', 3.0, 270),\n",
       " ('RP0151EN', 3.0, 252),\n",
       " ('CB0101EN', 3.0, 223),\n",
       " ('SECM03EN', 3.0, 222),\n",
       " ('COM001EN', 3.0, 209),\n",
       " ('DP0101EN', 3.0, 205),\n",
       " ('ML0122ENv3', 3.0, 173),\n",
       " ('PHPM002EN', 3.0, 164),\n",
       " ('BD0151EN', 3.0, 141),\n",
       " ('OS0101EN', 3.0, 60),\n",
       " ('CC0271EN', 3.0, 57),\n",
       " ('WA0103EN', 3.0, 56),\n",
       " ('TMP0106', 3.0, 35),\n",
       " ('GPXX0T0FEN', 3.0, 20),\n",
       " ('PA0107EN', 3.0, 18),\n",
       " ('CB0201EN', 3.0, 16),\n",
       " ('RAVSCTEST1', 3.0, 14),\n",
       " ('PA0103EN', 3.0, 8),\n",
       " ('DA0201EN', 3.0, 6),\n",
       " ('PA0109EN', 3.0, 6),\n",
       " ('DB0111EN', 3.0, 6),\n",
       " ('DB0115EN', 3.0, 4),\n",
       " ('DA0151EN', 3.0, 4),\n",
       " ('DB0113EN', 3.0, 4),\n",
       " ('DS0107', 3.0, 2),\n",
       " ('DX0107EN', 3.0, 2),\n",
       " ('BENTEST4', 3.0, 2),\n",
       " ('TMP0101EN', 3.0, 2),\n",
       " ('TMP107', 3.0, 2),\n",
       " ('ST0301EN', 3.0, 1),\n",
       " ('DX0108EN', 3.0, 1),\n",
       " ('ST0201EN', 3.0, 1),\n",
       " ('DX0106EN', 3.0, 1),\n",
       " ('GPXX0QR3EN', 3.0, 1)]"
      ]
     },
     "execution_count": 17,
     "metadata": {},
     "output_type": "execute_result"
    }
   ],
   "source": [
    "rated_items = set(df[df['user'] == user]['item'])\n",
    "all_items = set(items)\n",
    "unrated_items = all_items - rated_items\n",
    "\n",
    "item_scores = [(item, float(model.predict(item, user)), len(df[df['item'] == item])) for item in unrated_items]\n",
    "item_scores.sort(key=lambda x: (x[1], x[2]), reverse=True, )\n",
    "item_scores"
   ]
  },
  {
   "cell_type": "code",
   "execution_count": 3,
   "id": "17b400bc",
   "metadata": {},
   "outputs": [
    {
     "name": "stderr",
     "output_type": "stream",
     "text": [
      "<>:6: SyntaxWarning: invalid escape sequence '\\c'\n",
      "<>:6: SyntaxWarning: invalid escape sequence '\\c'\n",
      "C:\\Users\\sangb\\AppData\\Local\\Temp\\ipykernel_9820\\2955381725.py:6: SyntaxWarning: invalid escape sequence '\\c'\n",
      "  df = pd.read_csv('data\\captone_data.csv')\n"
     ]
    },
    {
     "name": "stdout",
     "output_type": "stream",
     "text": [
      "Recommender is ready.\n",
      "\n",
      "User 1889878 is an existing user. Applying dcpCF strategy.\n"
     ]
    },
    {
     "data": {
      "text/plain": [
       "{'recommendations': ['BD0111EN'],\n",
       " 'strategy': 'dcpCF',\n",
       " 'evl': 'mae = 0.007143163505494673, mse = 0.003883798403935365,rmse = 0.06232012840114633, r2 = 0.6382786530749025'}"
      ]
     },
     "execution_count": 3,
     "metadata": {},
     "output_type": "execute_result"
    }
   ],
   "source": [
    "from src.models import dcpCF\n",
    "import pandas as pd\n",
    "from src.recommender import Recommender\n",
    "\n",
    "\n",
    "df = pd.read_csv('data\\captone_data.csv')\n",
    "recommender_engine = Recommender(df)\n",
    "recommender_engine.recommend(1889878, 1, 'dcpCF')\n",
    "\n",
    "\n",
    "\n"
   ]
  }
 ],
 "metadata": {
  "kernelspec": {
   "display_name": "Python 3",
   "language": "python",
   "name": "python3"
  },
  "language_info": {
   "codemirror_mode": {
    "name": "ipython",
    "version": 3
   },
   "file_extension": ".py",
   "mimetype": "text/x-python",
   "name": "python",
   "nbconvert_exporter": "python",
   "pygments_lexer": "ipython3",
   "version": "3.12.6"
  }
 },
 "nbformat": 4,
 "nbformat_minor": 5
}
