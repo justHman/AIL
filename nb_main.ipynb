{
 "cells": [
  {
   "cell_type": "code",
   "execution_count": 1,
   "id": "144ef4a1",
   "metadata": {},
   "outputs": [
    {
     "name": "stdout",
     "output_type": "stream",
     "text": [
      "Recommender is ready.\n"
     ]
    }
   ],
   "source": [
    "import pandas as pd\n",
    "from src.recommender import Recommender\n",
    "from src.models import iiCB, Ridge_iiCB\n",
    "from src.utils import get_items_rated_by_user\n",
    "\n",
    "df = pd.read_csv('data\\captone_data.csv')\n",
    "recommender_engine = Recommender(df)\n",
    "model = Ridge_iiCB(df)\n"
   ]
  },
  {
   "cell_type": "code",
   "execution_count": 2,
   "id": "60ec40e4",
   "metadata": {},
   "outputs": [
    {
     "name": "stdout",
     "output_type": "stream",
     "text": [
      "================================================== Train xong! ==================================================\n"
     ]
    }
   ],
   "source": [
    "model.train(recommender_engine.item_vectors)"
   ]
  },
  {
   "cell_type": "code",
   "execution_count": 3,
   "id": "1674a8bf",
   "metadata": {},
   "outputs": [
    {
     "data": {
      "text/plain": [
       "np.float64(3.0)"
      ]
     },
     "execution_count": 3,
     "metadata": {},
     "output_type": "execute_result"
    }
   ],
   "source": [
    "model.predict('DB0115EN', 1889878)\n",
    "# print(rid.predict('LB0101ENv1', 2))\n",
    "# print(rid.reccomend('LB0101ENv1', 10, return_rating=True))"
   ]
  },
  {
   "cell_type": "code",
   "execution_count": 4,
   "id": "60df5506",
   "metadata": {},
   "outputs": [
    {
     "data": {
      "text/plain": [
       "['CL0101EN',\n",
       " 'ML0120ENv3',\n",
       " 'ST0101EN',\n",
       " 'DS0105EN',\n",
       " 'BD0141EN',\n",
       " 'CO0201EN',\n",
       " 'BD0123EN',\n",
       " 'TA0105EN',\n",
       " 'BD0111EN',\n",
       " 'ML0122ENv1']"
      ]
     },
     "execution_count": 4,
     "metadata": {},
     "output_type": "execute_result"
    }
   ],
   "source": [
    "model.reccomend(1889878, 10)"
   ]
  },
  {
   "cell_type": "code",
   "execution_count": 5,
   "id": "449f2c84",
   "metadata": {},
   "outputs": [],
   "source": [
    "items = df['item'].unique()\n",
    "user = 1889878\n",
    "\n",
    "rated_items = set(df[df['user'] == user]['item'])\n",
    "all_items = list(items)\n",
    "unrated_items = [item for item in all_items if item not in rated_items]\n",
    "\n",
    "item_scores = [(item, float(model.predict(item, user))) for item in unrated_items]\n",
    "\n",
    "item_scores.sort(key=lambda x: x[1], reverse=True)\n"
   ]
  }
 ],
 "metadata": {
  "kernelspec": {
   "display_name": "ml",
   "language": "python",
   "name": "python3"
  },
  "language_info": {
   "codemirror_mode": {
    "name": "ipython",
    "version": 3
   },
   "file_extension": ".py",
   "mimetype": "text/x-python",
   "name": "python",
   "nbconvert_exporter": "python",
   "pygments_lexer": "ipython3",
   "version": "3.10.11"
  }
 },
 "nbformat": 4,
 "nbformat_minor": 5
}
